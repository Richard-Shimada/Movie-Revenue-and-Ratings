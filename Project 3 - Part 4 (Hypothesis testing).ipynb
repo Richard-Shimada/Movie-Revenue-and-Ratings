{
 "cells": [
  {
   "cell_type": "code",
   "execution_count": null,
   "id": "195ed849",
   "metadata": {},
   "outputs": [],
   "source": []
  },
  {
   "cell_type": "markdown",
   "id": "ad089c7c",
   "metadata": {},
   "source": [
    "<b> Q1. Does the MPAA rating of a movie (G/PG/PG-13/R) affect how much revenue the movie generates?\n",
    "    \n",
    "Null Hypothesis: All movies generate the same revenue on average regardless of the rating.\n",
    "\n",
    "Alternative Hypothesis: There is a significant difference in revenue based on the rating of a movie.\n",
    "\n",
    "The standard significance level of alpha = 0.05 will be used."
   ]
  },
  {
   "cell_type": "code",
   "execution_count": null,
   "id": "453958c5",
   "metadata": {},
   "outputs": [],
   "source": []
  },
  {
   "cell_type": "markdown",
   "id": "1ab9f449",
   "metadata": {},
   "source": [
    "<b> Q1. Does movies in Genre X get more budgeting than movies in Genre Y? Or sub genre with more data with large average budget disparities"
   ]
  },
  {
   "cell_type": "code",
   "execution_count": null,
   "id": "eb25e273",
   "metadata": {},
   "outputs": [],
   "source": []
  },
  {
   "cell_type": "markdown",
   "id": "cf155ec2",
   "metadata": {},
   "source": [
    "<b> Q3. Are horror movies more likely to get an R rating compared to comedies? Or sub genre with more data with noticeable smaller ratio"
   ]
  },
  {
   "cell_type": "code",
   "execution_count": null,
   "id": "f1c1718d",
   "metadata": {},
   "outputs": [],
   "source": [
    "#Do history movies have a longer runtime than comedies (do average of mean runtime across genres)"
   ]
  },
  {
   "cell_type": "code",
   "execution_count": null,
   "id": "806629a0",
   "metadata": {},
   "outputs": [],
   "source": [
    "#Does Genre X tend to have lower rating on average than Genre Y?"
   ]
  }
 ],
 "metadata": {
  "kernelspec": {
   "display_name": "Python (dojo-env)",
   "language": "python",
   "name": "dojo-env"
  },
  "language_info": {
   "codemirror_mode": {
    "name": "ipython",
    "version": 3
   },
   "file_extension": ".py",
   "mimetype": "text/x-python",
   "name": "python",
   "nbconvert_exporter": "python",
   "pygments_lexer": "ipython3",
   "version": "3.8.13"
  },
  "toc": {
   "base_numbering": 1,
   "nav_menu": {},
   "number_sections": false,
   "sideBar": true,
   "skip_h1_title": false,
   "title_cell": "Table of Contents",
   "title_sidebar": "Contents",
   "toc_cell": false,
   "toc_position": {},
   "toc_section_display": true,
   "toc_window_display": false
  }
 },
 "nbformat": 4,
 "nbformat_minor": 5
}
