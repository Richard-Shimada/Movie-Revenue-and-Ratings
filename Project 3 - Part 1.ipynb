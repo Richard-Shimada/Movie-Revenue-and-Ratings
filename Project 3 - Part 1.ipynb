{
 "cells": [
  {
   "cell_type": "code",
   "execution_count": 1,
   "id": "3ab4b677",
   "metadata": {},
   "outputs": [],
   "source": [
    "import pandas as pd\n",
    "import numpy as np"
   ]
  },
  {
   "cell_type": "code",
   "execution_count": 2,
   "id": "e44b34e3",
   "metadata": {},
   "outputs": [
    {
     "name": "stderr",
     "output_type": "stream",
     "text": [
      "C:\\Users\\sushi\\AppData\\Local\\Temp\\ipykernel_12896\\1146940033.py:1: DtypeWarning: Columns (4) have mixed types. Specify dtype option on import or set low_memory=False.\n",
      "  basics = pd.read_csv('Data/basics.tsv', sep='\\t')\n"
     ]
    },
    {
     "data": {
      "text/html": [
       "<div>\n",
       "<style scoped>\n",
       "    .dataframe tbody tr th:only-of-type {\n",
       "        vertical-align: middle;\n",
       "    }\n",
       "\n",
       "    .dataframe tbody tr th {\n",
       "        vertical-align: top;\n",
       "    }\n",
       "\n",
       "    .dataframe thead th {\n",
       "        text-align: right;\n",
       "    }\n",
       "</style>\n",
       "<table border=\"1\" class=\"dataframe\">\n",
       "  <thead>\n",
       "    <tr style=\"text-align: right;\">\n",
       "      <th></th>\n",
       "      <th>tconst</th>\n",
       "      <th>titleType</th>\n",
       "      <th>primaryTitle</th>\n",
       "      <th>originalTitle</th>\n",
       "      <th>isAdult</th>\n",
       "      <th>startYear</th>\n",
       "      <th>endYear</th>\n",
       "      <th>runtimeMinutes</th>\n",
       "      <th>genres</th>\n",
       "    </tr>\n",
       "  </thead>\n",
       "  <tbody>\n",
       "    <tr>\n",
       "      <th>0</th>\n",
       "      <td>tt0000001</td>\n",
       "      <td>short</td>\n",
       "      <td>Carmencita</td>\n",
       "      <td>Carmencita</td>\n",
       "      <td>0</td>\n",
       "      <td>1894</td>\n",
       "      <td>\\N</td>\n",
       "      <td>1</td>\n",
       "      <td>Documentary,Short</td>\n",
       "    </tr>\n",
       "    <tr>\n",
       "      <th>1</th>\n",
       "      <td>tt0000002</td>\n",
       "      <td>short</td>\n",
       "      <td>Le clown et ses chiens</td>\n",
       "      <td>Le clown et ses chiens</td>\n",
       "      <td>0</td>\n",
       "      <td>1892</td>\n",
       "      <td>\\N</td>\n",
       "      <td>5</td>\n",
       "      <td>Animation,Short</td>\n",
       "    </tr>\n",
       "    <tr>\n",
       "      <th>2</th>\n",
       "      <td>tt0000003</td>\n",
       "      <td>short</td>\n",
       "      <td>Pauvre Pierrot</td>\n",
       "      <td>Pauvre Pierrot</td>\n",
       "      <td>0</td>\n",
       "      <td>1892</td>\n",
       "      <td>\\N</td>\n",
       "      <td>4</td>\n",
       "      <td>Animation,Comedy,Romance</td>\n",
       "    </tr>\n",
       "    <tr>\n",
       "      <th>3</th>\n",
       "      <td>tt0000004</td>\n",
       "      <td>short</td>\n",
       "      <td>Un bon bock</td>\n",
       "      <td>Un bon bock</td>\n",
       "      <td>0</td>\n",
       "      <td>1892</td>\n",
       "      <td>\\N</td>\n",
       "      <td>12</td>\n",
       "      <td>Animation,Short</td>\n",
       "    </tr>\n",
       "    <tr>\n",
       "      <th>4</th>\n",
       "      <td>tt0000005</td>\n",
       "      <td>short</td>\n",
       "      <td>Blacksmith Scene</td>\n",
       "      <td>Blacksmith Scene</td>\n",
       "      <td>0</td>\n",
       "      <td>1893</td>\n",
       "      <td>\\N</td>\n",
       "      <td>1</td>\n",
       "      <td>Comedy,Short</td>\n",
       "    </tr>\n",
       "  </tbody>\n",
       "</table>\n",
       "</div>"
      ],
      "text/plain": [
       "      tconst titleType            primaryTitle           originalTitle  \\\n",
       "0  tt0000001     short              Carmencita              Carmencita   \n",
       "1  tt0000002     short  Le clown et ses chiens  Le clown et ses chiens   \n",
       "2  tt0000003     short          Pauvre Pierrot          Pauvre Pierrot   \n",
       "3  tt0000004     short             Un bon bock             Un bon bock   \n",
       "4  tt0000005     short        Blacksmith Scene        Blacksmith Scene   \n",
       "\n",
       "  isAdult startYear endYear runtimeMinutes                    genres  \n",
       "0       0      1894      \\N              1         Documentary,Short  \n",
       "1       0      1892      \\N              5           Animation,Short  \n",
       "2       0      1892      \\N              4  Animation,Comedy,Romance  \n",
       "3       0      1892      \\N             12           Animation,Short  \n",
       "4       0      1893      \\N              1              Comedy,Short  "
      ]
     },
     "execution_count": 2,
     "metadata": {},
     "output_type": "execute_result"
    }
   ],
   "source": [
    "basics = pd.read_csv('Data/basics.tsv', sep='\\t')\n",
    "basics.head()\n",
    "\n"
   ]
  },
  {
   "cell_type": "code",
   "execution_count": 3,
   "id": "e5a10f45",
   "metadata": {},
   "outputs": [
    {
     "name": "stdout",
     "output_type": "stream",
     "text": [
      "<class 'pandas.core.frame.DataFrame'>\n",
      "RangeIndex: 9357313 entries, 0 to 9357312\n",
      "Data columns (total 9 columns):\n",
      " #   Column          Dtype \n",
      "---  ------          ----- \n",
      " 0   tconst          object\n",
      " 1   titleType       object\n",
      " 2   primaryTitle    object\n",
      " 3   originalTitle   object\n",
      " 4   isAdult         object\n",
      " 5   startYear       object\n",
      " 6   endYear         object\n",
      " 7   runtimeMinutes  object\n",
      " 8   genres          object\n",
      "dtypes: object(9)\n",
      "memory usage: 642.5+ MB\n"
     ]
    }
   ],
   "source": [
    "basics.info()"
   ]
  },
  {
   "cell_type": "code",
   "execution_count": 4,
   "id": "f0246c1a",
   "metadata": {},
   "outputs": [
    {
     "data": {
      "text/html": [
       "<div>\n",
       "<style scoped>\n",
       "    .dataframe tbody tr th:only-of-type {\n",
       "        vertical-align: middle;\n",
       "    }\n",
       "\n",
       "    .dataframe tbody tr th {\n",
       "        vertical-align: top;\n",
       "    }\n",
       "\n",
       "    .dataframe thead th {\n",
       "        text-align: right;\n",
       "    }\n",
       "</style>\n",
       "<table border=\"1\" class=\"dataframe\">\n",
       "  <thead>\n",
       "    <tr style=\"text-align: right;\">\n",
       "      <th></th>\n",
       "      <th>tconst</th>\n",
       "      <th>averageRating</th>\n",
       "      <th>numVotes</th>\n",
       "    </tr>\n",
       "  </thead>\n",
       "  <tbody>\n",
       "    <tr>\n",
       "      <th>0</th>\n",
       "      <td>tt0000001</td>\n",
       "      <td>5.7</td>\n",
       "      <td>1922</td>\n",
       "    </tr>\n",
       "    <tr>\n",
       "      <th>1</th>\n",
       "      <td>tt0000002</td>\n",
       "      <td>5.8</td>\n",
       "      <td>259</td>\n",
       "    </tr>\n",
       "    <tr>\n",
       "      <th>2</th>\n",
       "      <td>tt0000003</td>\n",
       "      <td>6.5</td>\n",
       "      <td>1733</td>\n",
       "    </tr>\n",
       "    <tr>\n",
       "      <th>3</th>\n",
       "      <td>tt0000004</td>\n",
       "      <td>5.6</td>\n",
       "      <td>174</td>\n",
       "    </tr>\n",
       "    <tr>\n",
       "      <th>4</th>\n",
       "      <td>tt0000005</td>\n",
       "      <td>6.2</td>\n",
       "      <td>2544</td>\n",
       "    </tr>\n",
       "  </tbody>\n",
       "</table>\n",
       "</div>"
      ],
      "text/plain": [
       "      tconst  averageRating  numVotes\n",
       "0  tt0000001            5.7      1922\n",
       "1  tt0000002            5.8       259\n",
       "2  tt0000003            6.5      1733\n",
       "3  tt0000004            5.6       174\n",
       "4  tt0000005            6.2      2544"
      ]
     },
     "execution_count": 4,
     "metadata": {},
     "output_type": "execute_result"
    }
   ],
   "source": [
    "ratings = pd.read_csv('Data/ratings.tsv', sep='\\t')\n",
    "ratings.head()"
   ]
  },
  {
   "cell_type": "code",
   "execution_count": 5,
   "id": "6574346d",
   "metadata": {},
   "outputs": [
    {
     "name": "stdout",
     "output_type": "stream",
     "text": [
      "<class 'pandas.core.frame.DataFrame'>\n",
      "RangeIndex: 1245557 entries, 0 to 1245556\n",
      "Data columns (total 3 columns):\n",
      " #   Column         Non-Null Count    Dtype  \n",
      "---  ------         --------------    -----  \n",
      " 0   tconst         1245557 non-null  object \n",
      " 1   averageRating  1245557 non-null  float64\n",
      " 2   numVotes       1245557 non-null  int64  \n",
      "dtypes: float64(1), int64(1), object(1)\n",
      "memory usage: 28.5+ MB\n"
     ]
    }
   ],
   "source": [
    "ratings.info()"
   ]
  },
  {
   "cell_type": "code",
   "execution_count": 6,
   "id": "c4cba862",
   "metadata": {},
   "outputs": [
    {
     "name": "stderr",
     "output_type": "stream",
     "text": [
      "C:\\Users\\sushi\\AppData\\Local\\Temp\\ipykernel_12896\\624551750.py:1: DtypeWarning: Columns (7) have mixed types. Specify dtype option on import or set low_memory=False.\n",
      "  akas = pd.read_csv('Data/akas.tsv', sep='\\t')\n"
     ]
    },
    {
     "data": {
      "text/html": [
       "<div>\n",
       "<style scoped>\n",
       "    .dataframe tbody tr th:only-of-type {\n",
       "        vertical-align: middle;\n",
       "    }\n",
       "\n",
       "    .dataframe tbody tr th {\n",
       "        vertical-align: top;\n",
       "    }\n",
       "\n",
       "    .dataframe thead th {\n",
       "        text-align: right;\n",
       "    }\n",
       "</style>\n",
       "<table border=\"1\" class=\"dataframe\">\n",
       "  <thead>\n",
       "    <tr style=\"text-align: right;\">\n",
       "      <th></th>\n",
       "      <th>titleId</th>\n",
       "      <th>ordering</th>\n",
       "      <th>title</th>\n",
       "      <th>region</th>\n",
       "      <th>language</th>\n",
       "      <th>types</th>\n",
       "      <th>attributes</th>\n",
       "      <th>isOriginalTitle</th>\n",
       "    </tr>\n",
       "  </thead>\n",
       "  <tbody>\n",
       "    <tr>\n",
       "      <th>0</th>\n",
       "      <td>tt0000001</td>\n",
       "      <td>1</td>\n",
       "      <td>Карменсіта</td>\n",
       "      <td>UA</td>\n",
       "      <td>\\N</td>\n",
       "      <td>imdbDisplay</td>\n",
       "      <td>\\N</td>\n",
       "      <td>0</td>\n",
       "    </tr>\n",
       "    <tr>\n",
       "      <th>1</th>\n",
       "      <td>tt0000001</td>\n",
       "      <td>2</td>\n",
       "      <td>Carmencita</td>\n",
       "      <td>DE</td>\n",
       "      <td>\\N</td>\n",
       "      <td>\\N</td>\n",
       "      <td>literal title</td>\n",
       "      <td>0</td>\n",
       "    </tr>\n",
       "    <tr>\n",
       "      <th>2</th>\n",
       "      <td>tt0000001</td>\n",
       "      <td>3</td>\n",
       "      <td>Carmencita - spanyol tánc</td>\n",
       "      <td>HU</td>\n",
       "      <td>\\N</td>\n",
       "      <td>imdbDisplay</td>\n",
       "      <td>\\N</td>\n",
       "      <td>0</td>\n",
       "    </tr>\n",
       "    <tr>\n",
       "      <th>3</th>\n",
       "      <td>tt0000001</td>\n",
       "      <td>4</td>\n",
       "      <td>Καρμενσίτα</td>\n",
       "      <td>GR</td>\n",
       "      <td>\\N</td>\n",
       "      <td>imdbDisplay</td>\n",
       "      <td>\\N</td>\n",
       "      <td>0</td>\n",
       "    </tr>\n",
       "    <tr>\n",
       "      <th>4</th>\n",
       "      <td>tt0000001</td>\n",
       "      <td>5</td>\n",
       "      <td>Карменсита</td>\n",
       "      <td>RU</td>\n",
       "      <td>\\N</td>\n",
       "      <td>imdbDisplay</td>\n",
       "      <td>\\N</td>\n",
       "      <td>0</td>\n",
       "    </tr>\n",
       "  </tbody>\n",
       "</table>\n",
       "</div>"
      ],
      "text/plain": [
       "     titleId  ordering                      title region language  \\\n",
       "0  tt0000001         1                 Карменсіта     UA       \\N   \n",
       "1  tt0000001         2                 Carmencita     DE       \\N   \n",
       "2  tt0000001         3  Carmencita - spanyol tánc     HU       \\N   \n",
       "3  tt0000001         4                 Καρμενσίτα     GR       \\N   \n",
       "4  tt0000001         5                 Карменсита     RU       \\N   \n",
       "\n",
       "         types     attributes isOriginalTitle  \n",
       "0  imdbDisplay             \\N               0  \n",
       "1           \\N  literal title               0  \n",
       "2  imdbDisplay             \\N               0  \n",
       "3  imdbDisplay             \\N               0  \n",
       "4  imdbDisplay             \\N               0  "
      ]
     },
     "execution_count": 6,
     "metadata": {},
     "output_type": "execute_result"
    }
   ],
   "source": [
    "akas = pd.read_csv('Data/akas.tsv', sep='\\t')\n",
    "akas.head()"
   ]
  },
  {
   "cell_type": "code",
   "execution_count": 7,
   "id": "2cbe2562",
   "metadata": {},
   "outputs": [
    {
     "name": "stdout",
     "output_type": "stream",
     "text": [
      "<class 'pandas.core.frame.DataFrame'>\n",
      "RangeIndex: 33762801 entries, 0 to 33762800\n",
      "Data columns (total 8 columns):\n",
      " #   Column           Dtype \n",
      "---  ------           ----- \n",
      " 0   titleId          object\n",
      " 1   ordering         int64 \n",
      " 2   title            object\n",
      " 3   region           object\n",
      " 4   language         object\n",
      " 5   types            object\n",
      " 6   attributes       object\n",
      " 7   isOriginalTitle  object\n",
      "dtypes: int64(1), object(7)\n",
      "memory usage: 2.0+ GB\n"
     ]
    }
   ],
   "source": [
    "akas.info()"
   ]
  },
  {
   "cell_type": "code",
   "execution_count": 8,
   "id": "45f4b2f9",
   "metadata": {},
   "outputs": [
    {
     "data": {
      "text/plain": [
       "\\N      6800352\n",
       "30       145454\n",
       "22       114499\n",
       "60       108299\n",
       "44        70365\n",
       "         ...   \n",
       "665           1\n",
       "3087          1\n",
       "583           1\n",
       "503           1\n",
       "2088          1\n",
       "Name: runtimeMinutes, Length: 878, dtype: int64"
      ]
     },
     "execution_count": 8,
     "metadata": {},
     "output_type": "execute_result"
    }
   ],
   "source": [
    "basics['runtimeMinutes'].value_counts(dropna=False,sort=True)"
   ]
  },
  {
   "cell_type": "markdown",
   "id": "4c4c1682",
   "metadata": {},
   "source": [
    "Lots of NA values in runtime that are inputted as \\N"
   ]
  },
  {
   "cell_type": "code",
   "execution_count": 9,
   "id": "476e5267",
   "metadata": {},
   "outputs": [],
   "source": [
    "#replace \\N with traditional NaN value and drop the 6,800,352 rows with unknown runtime\n",
    "basics['runtimeMinutes'].replace(r\"\\N\",np.nan,inplace=True)\n",
    "basics = basics[basics['runtimeMinutes'].notna()]"
   ]
  },
  {
   "cell_type": "code",
   "execution_count": 10,
   "id": "8052f87f",
   "metadata": {},
   "outputs": [
    {
     "data": {
      "text/plain": [
       "Drama                          195137\n",
       "Documentary                    167922\n",
       "Comedy                         139297\n",
       "Drama,Short                    110481\n",
       "Short                          104791\n",
       "                                ...  \n",
       "Biography,Horror,Sci-Fi             1\n",
       "Documentary,Romance,Sport           1\n",
       "Documentary,Sci-Fi,Thriller         1\n",
       "Adult,Game-Show                     1\n",
       "Drama,Horror,Reality-TV             1\n",
       "Name: genres, Length: 2208, dtype: int64"
      ]
     },
     "execution_count": 10,
     "metadata": {},
     "output_type": "execute_result"
    }
   ],
   "source": [
    "basics['genres'].value_counts(dropna=False,sort=True)"
   ]
  },
  {
   "cell_type": "code",
   "execution_count": 11,
   "id": "ec85b66b",
   "metadata": {},
   "outputs": [
    {
     "data": {
      "text/html": [
       "<div>\n",
       "<style scoped>\n",
       "    .dataframe tbody tr th:only-of-type {\n",
       "        vertical-align: middle;\n",
       "    }\n",
       "\n",
       "    .dataframe tbody tr th {\n",
       "        vertical-align: top;\n",
       "    }\n",
       "\n",
       "    .dataframe thead th {\n",
       "        text-align: right;\n",
       "    }\n",
       "</style>\n",
       "<table border=\"1\" class=\"dataframe\">\n",
       "  <thead>\n",
       "    <tr style=\"text-align: right;\">\n",
       "      <th></th>\n",
       "      <th>tconst</th>\n",
       "      <th>titleType</th>\n",
       "      <th>primaryTitle</th>\n",
       "      <th>originalTitle</th>\n",
       "      <th>isAdult</th>\n",
       "      <th>startYear</th>\n",
       "      <th>endYear</th>\n",
       "      <th>runtimeMinutes</th>\n",
       "      <th>genres</th>\n",
       "    </tr>\n",
       "  </thead>\n",
       "  <tbody>\n",
       "    <tr>\n",
       "      <th>498</th>\n",
       "      <td>tt0000502</td>\n",
       "      <td>movie</td>\n",
       "      <td>Bohemios</td>\n",
       "      <td>Bohemios</td>\n",
       "      <td>0</td>\n",
       "      <td>1905</td>\n",
       "      <td>\\N</td>\n",
       "      <td>100</td>\n",
       "      <td>\\N</td>\n",
       "    </tr>\n",
       "    <tr>\n",
       "      <th>1616</th>\n",
       "      <td>tt0001630</td>\n",
       "      <td>movie</td>\n",
       "      <td>Der fremde Vogel</td>\n",
       "      <td>Der fremde Vogel</td>\n",
       "      <td>0</td>\n",
       "      <td>1911</td>\n",
       "      <td>\\N</td>\n",
       "      <td>45</td>\n",
       "      <td>\\N</td>\n",
       "    </tr>\n",
       "    <tr>\n",
       "      <th>1739</th>\n",
       "      <td>tt0001756</td>\n",
       "      <td>movie</td>\n",
       "      <td>Lucha por la herencia</td>\n",
       "      <td>Lucha por la herencia</td>\n",
       "      <td>0</td>\n",
       "      <td>1911</td>\n",
       "      <td>\\N</td>\n",
       "      <td>92</td>\n",
       "      <td>\\N</td>\n",
       "    </tr>\n",
       "    <tr>\n",
       "      <th>2069</th>\n",
       "      <td>tt0002094</td>\n",
       "      <td>movie</td>\n",
       "      <td>Charles IV</td>\n",
       "      <td>Charles IV</td>\n",
       "      <td>0</td>\n",
       "      <td>1912</td>\n",
       "      <td>\\N</td>\n",
       "      <td>50</td>\n",
       "      <td>\\N</td>\n",
       "    </tr>\n",
       "    <tr>\n",
       "      <th>2289</th>\n",
       "      <td>tt0002315</td>\n",
       "      <td>movie</td>\n",
       "      <td>El lobo de la sierra</td>\n",
       "      <td>El lobo de la sierra</td>\n",
       "      <td>0</td>\n",
       "      <td>1912</td>\n",
       "      <td>\\N</td>\n",
       "      <td>76</td>\n",
       "      <td>\\N</td>\n",
       "    </tr>\n",
       "    <tr>\n",
       "      <th>...</th>\n",
       "      <td>...</td>\n",
       "      <td>...</td>\n",
       "      <td>...</td>\n",
       "      <td>...</td>\n",
       "      <td>...</td>\n",
       "      <td>...</td>\n",
       "      <td>...</td>\n",
       "      <td>...</td>\n",
       "      <td>...</td>\n",
       "    </tr>\n",
       "    <tr>\n",
       "      <th>9355929</th>\n",
       "      <td>tt9913834</td>\n",
       "      <td>movie</td>\n",
       "      <td>Hiniku: Nure nawazeme</td>\n",
       "      <td>Hiniku: Nure nawazeme</td>\n",
       "      <td>0</td>\n",
       "      <td>1981</td>\n",
       "      <td>\\N</td>\n",
       "      <td>64</td>\n",
       "      <td>\\N</td>\n",
       "    </tr>\n",
       "    <tr>\n",
       "      <th>9355950</th>\n",
       "      <td>tt9913878</td>\n",
       "      <td>movie</td>\n",
       "      <td>Document porno: Yubi ijime</td>\n",
       "      <td>Document porno: Yubi ijime</td>\n",
       "      <td>0</td>\n",
       "      <td>1981</td>\n",
       "      <td>\\N</td>\n",
       "      <td>61</td>\n",
       "      <td>\\N</td>\n",
       "    </tr>\n",
       "    <tr>\n",
       "      <th>9356525</th>\n",
       "      <td>tt9915130</td>\n",
       "      <td>movie</td>\n",
       "      <td>Meet John Doe</td>\n",
       "      <td>Meet John Doe</td>\n",
       "      <td>0</td>\n",
       "      <td>\\N</td>\n",
       "      <td>\\N</td>\n",
       "      <td>120</td>\n",
       "      <td>\\N</td>\n",
       "    </tr>\n",
       "    <tr>\n",
       "      <th>9356968</th>\n",
       "      <td>tt9916134</td>\n",
       "      <td>movie</td>\n",
       "      <td>The Thing in the Bag</td>\n",
       "      <td>The Thing in the Bag</td>\n",
       "      <td>0</td>\n",
       "      <td>\\N</td>\n",
       "      <td>\\N</td>\n",
       "      <td>78</td>\n",
       "      <td>\\N</td>\n",
       "    </tr>\n",
       "    <tr>\n",
       "      <th>9357253</th>\n",
       "      <td>tt9916730</td>\n",
       "      <td>movie</td>\n",
       "      <td>6 Gunn</td>\n",
       "      <td>6 Gunn</td>\n",
       "      <td>0</td>\n",
       "      <td>2017</td>\n",
       "      <td>\\N</td>\n",
       "      <td>116</td>\n",
       "      <td>\\N</td>\n",
       "    </tr>\n",
       "  </tbody>\n",
       "</table>\n",
       "<p>68151 rows × 9 columns</p>\n",
       "</div>"
      ],
      "text/plain": [
       "            tconst titleType                primaryTitle  \\\n",
       "498      tt0000502     movie                    Bohemios   \n",
       "1616     tt0001630     movie            Der fremde Vogel   \n",
       "1739     tt0001756     movie       Lucha por la herencia   \n",
       "2069     tt0002094     movie                  Charles IV   \n",
       "2289     tt0002315     movie        El lobo de la sierra   \n",
       "...            ...       ...                         ...   \n",
       "9355929  tt9913834     movie       Hiniku: Nure nawazeme   \n",
       "9355950  tt9913878     movie  Document porno: Yubi ijime   \n",
       "9356525  tt9915130     movie               Meet John Doe   \n",
       "9356968  tt9916134     movie        The Thing in the Bag   \n",
       "9357253  tt9916730     movie                      6 Gunn   \n",
       "\n",
       "                      originalTitle isAdult startYear endYear runtimeMinutes  \\\n",
       "498                        Bohemios       0      1905      \\N            100   \n",
       "1616               Der fremde Vogel       0      1911      \\N             45   \n",
       "1739          Lucha por la herencia       0      1911      \\N             92   \n",
       "2069                     Charles IV       0      1912      \\N             50   \n",
       "2289           El lobo de la sierra       0      1912      \\N             76   \n",
       "...                             ...     ...       ...     ...            ...   \n",
       "9355929       Hiniku: Nure nawazeme       0      1981      \\N             64   \n",
       "9355950  Document porno: Yubi ijime       0      1981      \\N             61   \n",
       "9356525               Meet John Doe       0        \\N      \\N            120   \n",
       "9356968        The Thing in the Bag       0        \\N      \\N             78   \n",
       "9357253                      6 Gunn       0      2017      \\N            116   \n",
       "\n",
       "        genres  \n",
       "498         \\N  \n",
       "1616        \\N  \n",
       "1739        \\N  \n",
       "2069        \\N  \n",
       "2289        \\N  \n",
       "...        ...  \n",
       "9355929     \\N  \n",
       "9355950     \\N  \n",
       "9356525     \\N  \n",
       "9356968     \\N  \n",
       "9357253     \\N  \n",
       "\n",
       "[68151 rows x 9 columns]"
      ]
     },
     "execution_count": 11,
     "metadata": {},
     "output_type": "execute_result"
    }
   ],
   "source": [
    "#Determine if null values are also represented as \\N for genre\n",
    "basics.loc[basics['genres']==r\"\\N\"]"
   ]
  },
  {
   "cell_type": "code",
   "execution_count": 12,
   "id": "f678744a",
   "metadata": {},
   "outputs": [
    {
     "name": "stderr",
     "output_type": "stream",
     "text": [
      "C:\\Users\\sushi\\AppData\\Local\\Temp\\ipykernel_12896\\781579769.py:2: SettingWithCopyWarning: \n",
      "A value is trying to be set on a copy of a slice from a DataFrame\n",
      "\n",
      "See the caveats in the documentation: https://pandas.pydata.org/pandas-docs/stable/user_guide/indexing.html#returning-a-view-versus-a-copy\n",
      "  basics['genres'].replace(r\"\\N\",np.nan,inplace=True)\n"
     ]
    }
   ],
   "source": [
    "#replace \\N with traditional NaN value and drop the 68,151 rows with unknown genre\n",
    "basics['genres'].replace(r\"\\N\",np.nan,inplace=True)\n",
    "basics = basics[basics['genres'].notna()]"
   ]
  },
  {
   "cell_type": "code",
   "execution_count": 13,
   "id": "b14c025f",
   "metadata": {},
   "outputs": [],
   "source": [
    "#only keep full-length movies\n",
    "basics = basics[basics.titleType =='movie']"
   ]
  },
  {
   "cell_type": "code",
   "execution_count": 14,
   "id": "3664786a",
   "metadata": {},
   "outputs": [],
   "source": [
    "#only keep fictional movies\n",
    "basics = basics[basics.genres !='Documentary']"
   ]
  },
  {
   "cell_type": "code",
   "execution_count": 15,
   "id": "2a9f027d",
   "metadata": {},
   "outputs": [
    {
     "data": {
      "text/plain": [
       "8          1894\n",
       "570        1906\n",
       "587        1907\n",
       "672        1908\n",
       "930        1909\n",
       "           ... \n",
       "9356985    2019\n",
       "9356994    2020\n",
       "9357033    2020\n",
       "9357078    2020\n",
       "9357162    2019\n",
       "Name: startYear, Length: 303088, dtype: int32"
      ]
     },
     "execution_count": 15,
     "metadata": {},
     "output_type": "execute_result"
    }
   ],
   "source": [
    "#drop null startYears so we can typecast to int and apply filters\n",
    "basics['startYear'].replace(r\"\\N\",np.nan,inplace=True)\n",
    "basics = basics[basics['startYear'].notna()]\n",
    "basics['startYear'].astype(int)"
   ]
  },
  {
   "cell_type": "code",
   "execution_count": 20,
   "id": "524fa8e0",
   "metadata": {},
   "outputs": [],
   "source": [
    "basics = basics[(basics.startYear > '1999') & (basics.startYear < '2022')]"
   ]
  },
  {
   "cell_type": "code",
   "execution_count": 21,
   "id": "db9dee4e",
   "metadata": {},
   "outputs": [
    {
     "name": "stdout",
     "output_type": "stream",
     "text": [
      "<class 'pandas.core.frame.DataFrame'>\n",
      "Int64Index: 158898 entries, 34793 to 9357162\n",
      "Data columns (total 9 columns):\n",
      " #   Column          Non-Null Count   Dtype \n",
      "---  ------          --------------   ----- \n",
      " 0   tconst          158898 non-null  object\n",
      " 1   titleType       158898 non-null  object\n",
      " 2   primaryTitle    158898 non-null  object\n",
      " 3   originalTitle   158898 non-null  object\n",
      " 4   isAdult         158898 non-null  object\n",
      " 5   startYear       158898 non-null  object\n",
      " 6   endYear         158898 non-null  object\n",
      " 7   runtimeMinutes  158898 non-null  object\n",
      " 8   genres          158898 non-null  object\n",
      "dtypes: object(9)\n",
      "memory usage: 12.1+ MB\n"
     ]
    }
   ],
   "source": [
    "#final dataframe after filtering\n",
    "basics.info()"
   ]
  },
  {
   "cell_type": "code",
   "execution_count": 22,
   "id": "8bd56c0a",
   "metadata": {},
   "outputs": [],
   "source": [
    "#only keep the 1,365,697 movies released in the US\n",
    "akas = akas.loc[akas['region']==\"US\"]"
   ]
  },
  {
   "cell_type": "code",
   "execution_count": 19,
   "id": "9a44b1ce",
   "metadata": {},
   "outputs": [
    {
     "name": "stdout",
     "output_type": "stream",
     "text": [
      "<class 'pandas.core.frame.DataFrame'>\n",
      "Int64Index: 1365697 entries, 5 to 33762545\n",
      "Data columns (total 8 columns):\n",
      " #   Column           Non-Null Count    Dtype \n",
      "---  ------           --------------    ----- \n",
      " 0   titleId          1365697 non-null  object\n",
      " 1   ordering         1365697 non-null  int64 \n",
      " 2   title            1365697 non-null  object\n",
      " 3   region           1365697 non-null  object\n",
      " 4   language         1365697 non-null  object\n",
      " 5   types            1365697 non-null  object\n",
      " 6   attributes       1365697 non-null  object\n",
      " 7   isOriginalTitle  1365697 non-null  object\n",
      "dtypes: int64(1), object(7)\n",
      "memory usage: 93.8+ MB\n"
     ]
    }
   ],
   "source": [
    "akas.info()"
   ]
  },
  {
   "cell_type": "code",
   "execution_count": 23,
   "id": "9beec1f1",
   "metadata": {},
   "outputs": [
    {
     "name": "stdout",
     "output_type": "stream",
     "text": [
      "<class 'pandas.core.frame.DataFrame'>\n",
      "RangeIndex: 1245557 entries, 0 to 1245556\n",
      "Data columns (total 3 columns):\n",
      " #   Column         Non-Null Count    Dtype  \n",
      "---  ------         --------------    -----  \n",
      " 0   tconst         1245557 non-null  object \n",
      " 1   averageRating  1245557 non-null  float64\n",
      " 2   numVotes       1245557 non-null  int64  \n",
      "dtypes: float64(1), int64(1), object(1)\n",
      "memory usage: 28.5+ MB\n"
     ]
    }
   ],
   "source": [
    "ratings.info()"
   ]
  },
  {
   "cell_type": "code",
   "execution_count": 26,
   "id": "ee4350b6",
   "metadata": {},
   "outputs": [],
   "source": [
    "basics.to_csv('basics.csv')\n",
    "akas.to_csv('akas.csv')\n",
    "ratings.to_csv('ratings.csv')"
   ]
  }
 ],
 "metadata": {
  "kernelspec": {
   "display_name": "Python (dojo-env)",
   "language": "python",
   "name": "dojo-env"
  },
  "language_info": {
   "codemirror_mode": {
    "name": "ipython",
    "version": 3
   },
   "file_extension": ".py",
   "mimetype": "text/x-python",
   "name": "python",
   "nbconvert_exporter": "python",
   "pygments_lexer": "ipython3",
   "version": "3.8.13"
  },
  "toc": {
   "base_numbering": 1,
   "nav_menu": {},
   "number_sections": false,
   "sideBar": true,
   "skip_h1_title": false,
   "title_cell": "Table of Contents",
   "title_sidebar": "Contents",
   "toc_cell": false,
   "toc_position": {},
   "toc_section_display": true,
   "toc_window_display": false
  }
 },
 "nbformat": 4,
 "nbformat_minor": 5
}
